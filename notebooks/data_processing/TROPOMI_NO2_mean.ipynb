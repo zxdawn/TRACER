{
 "cells": [
  {
   "cell_type": "code",
   "execution_count": 1,
   "id": "7b48fef8-891e-4d1b-b36e-a7e035cbcbfa",
   "metadata": {},
   "outputs": [],
   "source": [
    "%matplotlib inline"
   ]
  },
  {
   "cell_type": "code",
   "execution_count": 2,
   "id": "244a8b5f-e184-4947-8c8e-e3c50dd17c1f",
   "metadata": {},
   "outputs": [
    {
     "data": {
      "text/html": [
       "<script type=\"text/javascript\">\n",
       "        function toggle(id) {\n",
       "            el = document.getElementById(id);\n",
       "            el.style.display = el.style.display === \"none\" ? \"block\" : \"none\";\n",
       "        }\n",
       "    </script>"
      ],
      "text/plain": [
       "<IPython.core.display.HTML object>"
      ]
     },
     "metadata": {},
     "output_type": "display_data"
    },
    {
     "data": {
      "text/html": [
       "This notebook is compatible with this base image version (user-0.24.5)."
      ],
      "text/plain": [
       "<IPython.core.display.HTML object>"
      ]
     },
     "metadata": {},
     "output_type": "display_data"
    },
    {
     "data": {
      "text/markdown": [
       "\n",
       "\n",
       "---------\n",
       "\n",
       "The following environment variables are available:\n",
       "\n",
       "* `SH_CLIENT_SECRET`, `SH_CLIENT_NAME`, `SH_INSTANCE_ID`, `SH_CLIENT_ID`\n"
      ],
      "text/plain": [
       "<IPython.core.display.Markdown object>"
      ]
     },
     "metadata": {},
     "output_type": "display_data"
    }
   ],
   "source": [
    "from edc import check_compatibility\n",
    "check_compatibility(\"user-0.24.5\", dependencies=[\"SH\"])"
   ]
  },
  {
   "cell_type": "code",
   "execution_count": 3,
   "id": "55be81d1-4e95-4513-b499-1de33ce1a654",
   "metadata": {},
   "outputs": [],
   "source": [
    "from xcube_sh.config import CubeConfig\n",
    "from xcube_sh.cube import open_cube\n",
    "from xcube_sh.sentinelhub import SentinelHub\n",
    "import xarray as xr\n",
    "\n",
    "from sentinelhub import BBox, WmsRequest, DataSource, SHConfig\n",
    "from functools import partial"
   ]
  },
  {
   "cell_type": "code",
   "execution_count": 4,
   "id": "8bf408a9-d75a-4af1-9dcd-5d40eb7f7099",
   "metadata": {},
   "outputs": [],
   "source": [
    "# Set Sentinel Hub credentials\n",
    "\n",
    "import os\n",
    "sh_credentials = dict(client_id=os.environ['SH_CLIENT_ID'],\n",
    "                      client_secret=os.environ['SH_CLIENT_SECRET']) # This is only provided when the Oauth credentials are created\n",
    "\n",
    "# Sentinel-3 OLCI, Sentinel-3 SLSTR and Sentinel-5 layers are processed on different infrastructure, \n",
    "# which requires to used different end-point\n",
    "\n",
    "sh_credentials.update(api_url='https://creodias.sentinel-hub.com')"
   ]
  },
  {
   "cell_type": "markdown",
   "id": "af803c29-499a-4bc8-acef-e6295ab5e5fa",
   "metadata": {},
   "source": [
    "Set the area for three ship lanes far from land:"
   ]
  },
  {
   "cell_type": "code",
   "execution_count": 6,
   "id": "b735f53c-994f-4aee-9915-f0ea6a013f14",
   "metadata": {},
   "outputs": [],
   "source": [
    "#     'Center of Gulf of Mexico':         ranges(( -92.0,  -89.0), (26, 28)),\n",
    "#     'West of San Diego':         ranges(( -125.0,  -118.0), (27, 32)),\n",
    "#     'West of Los Angeles':         ranges(( -129.0,  -123.0), (31, 38)),\n",
    "\n",
    "#Define two regions\n",
    "region1 = dict()\n",
    "region1['name'] = 'gulf_of_mexico'#'Center of Gulf of Mexico'\n",
    "region1['x1'] = -92\n",
    "region1['y1'] = 26\n",
    "region1['x2'] = -89\n",
    "region1['y2'] = 28\n",
    "\n",
    "region2 = dict()\n",
    "region2['name'] = 'san_diego'#'West of San Diego'\n",
    "region2['x1'] = -125\n",
    "region2['y1'] = 27\n",
    "region2['x2'] = -118\n",
    "region2['y2'] = 32\n",
    "\n",
    "region3 = dict()\n",
    "region3['name'] = 'los_angeles'#'West of Los Angeles'\n",
    "region3['x1'] = -129\n",
    "region3['y1'] = 31\n",
    "region3['x2'] = -123\n",
    "region3['y2'] = 38\n",
    "\n",
    "\n",
    "region4 = dict()\n",
    "region4['name'] = 'huston'#'Center of Gulf of Mexico'\n",
    "region4['x1'] = -95.5\n",
    "region4['y1'] = 29.6\n",
    "region4['x2'] = -95.1\n",
    "region4['y2'] = 29.9\n",
    "\n",
    "region5 = dict()\n",
    "region5['name'] = 'los_angeles_city'#'West of San Diego'\n",
    "region5['x1'] = -118.4\n",
    "region5['y1'] = 33.95\n",
    "region5['x2'] = -118.1\n",
    "region5['y2'] = 34.15\n",
    "\n",
    "region6 = dict()\n",
    "region6['name'] = 'victoria'#'West of Los Angeles'\n",
    "region6['x1'] = -123.7\n",
    "region6['y1'] = 48.3\n",
    "region6['x2'] = -123.3\n",
    "region6['y2'] = 48.6\n",
    "\n",
    "geometry = [region1, region2, region3, region4, region5, region6]"
   ]
  },
  {
   "cell_type": "code",
   "execution_count": 11,
   "id": "2c2dfbe7-c59d-4ffe-9155-d4f5d80b6b9a",
   "metadata": {},
   "outputs": [],
   "source": [
    "timerange = ['2019-12-01', '2020-06-30']\n",
    "\n",
    "def get_data(geometry):\n",
    "    cubes = []\n",
    "    for idx,geo in enumerate(geometry):\n",
    "        cube_config = CubeConfig(dataset_name='S5PL2',\n",
    "                             band_names=['NO2', 'SO2', 'CLOUD_FRACTION'],\n",
    "                             # tile_size=[512, 512],\n",
    "                             bbox=(geo['x1'], geo['y1'], geo['x2'], geo['y2']),\n",
    "                             spatial_res=0.02, #abs(bbox[2]-bbox[0])/512,\n",
    "                             time_range= timerange,\n",
    "                             time_period='1D'\n",
    "                                ) \n",
    "\n",
    "        cube = open_cube(cube_config, **sh_credentials)\n",
    "        cubes.append(cube)\n",
    "    return cubes\n",
    "\n",
    "cubes = get_data(geometry)"
   ]
  },
  {
   "cell_type": "markdown",
   "id": "938bc785-9799-4276-9c02-0b6132964f3a",
   "metadata": {},
   "source": [
    "Check the TROPOMI passing time:"
   ]
  },
  {
   "cell_type": "code",
   "execution_count": 8,
   "id": "fea36a5c-bbce-4695-b998-70396f893d02",
   "metadata": {},
   "outputs": [
    {
     "name": "stdout",
     "output_type": "stream",
     "text": [
      "gulf_of_mexico <xarray.DataArray 'time' (time: 213)>\n",
      "array(['2019-12-01T12:00:00.000000000', '2019-12-02T12:00:00.000000000',\n",
      "       '2019-12-03T12:00:00.000000000', ..., '2020-06-28T12:00:00.000000000',\n",
      "       '2020-06-29T12:00:00.000000000', '2020-06-30T12:00:00.000000000'],\n",
      "      dtype='datetime64[ns]')\n",
      "Coordinates:\n",
      "  * time     (time) datetime64[ns] 2019-12-01T12:00:00 ... 2020-06-30T12:00:00\n",
      "Attributes:\n",
      "    standard_name:  time\n",
      "    bounds:         time_bnds\n",
      "san_diego <xarray.DataArray 'time' (time: 213)>\n",
      "array(['2019-12-01T12:00:00.000000000', '2019-12-02T12:00:00.000000000',\n",
      "       '2019-12-03T12:00:00.000000000', ..., '2020-06-28T12:00:00.000000000',\n",
      "       '2020-06-29T12:00:00.000000000', '2020-06-30T12:00:00.000000000'],\n",
      "      dtype='datetime64[ns]')\n",
      "Coordinates:\n",
      "  * time     (time) datetime64[ns] 2019-12-01T12:00:00 ... 2020-06-30T12:00:00\n",
      "Attributes:\n",
      "    standard_name:  time\n",
      "    bounds:         time_bnds\n",
      "los_angeles <xarray.DataArray 'time' (time: 213)>\n",
      "array(['2019-12-01T12:00:00.000000000', '2019-12-02T12:00:00.000000000',\n",
      "       '2019-12-03T12:00:00.000000000', ..., '2020-06-28T12:00:00.000000000',\n",
      "       '2020-06-29T12:00:00.000000000', '2020-06-30T12:00:00.000000000'],\n",
      "      dtype='datetime64[ns]')\n",
      "Coordinates:\n",
      "  * time     (time) datetime64[ns] 2019-12-01T12:00:00 ... 2020-06-30T12:00:00\n",
      "Attributes:\n",
      "    standard_name:  time\n",
      "    bounds:         time_bnds\n",
      "huston <xarray.DataArray 'time' (time: 213)>\n",
      "array(['2019-12-01T12:00:00.000000000', '2019-12-02T12:00:00.000000000',\n",
      "       '2019-12-03T12:00:00.000000000', ..., '2020-06-28T12:00:00.000000000',\n",
      "       '2020-06-29T12:00:00.000000000', '2020-06-30T12:00:00.000000000'],\n",
      "      dtype='datetime64[ns]')\n",
      "Coordinates:\n",
      "  * time     (time) datetime64[ns] 2019-12-01T12:00:00 ... 2020-06-30T12:00:00\n",
      "Attributes:\n",
      "    standard_name:  time\n",
      "    bounds:         time_bnds\n",
      "los_angeles_city <xarray.DataArray 'time' (time: 213)>\n",
      "array(['2019-12-01T12:00:00.000000000', '2019-12-02T12:00:00.000000000',\n",
      "       '2019-12-03T12:00:00.000000000', ..., '2020-06-28T12:00:00.000000000',\n",
      "       '2020-06-29T12:00:00.000000000', '2020-06-30T12:00:00.000000000'],\n",
      "      dtype='datetime64[ns]')\n",
      "Coordinates:\n",
      "  * time     (time) datetime64[ns] 2019-12-01T12:00:00 ... 2020-06-30T12:00:00\n",
      "Attributes:\n",
      "    standard_name:  time\n",
      "    bounds:         time_bnds\n",
      "victoria <xarray.DataArray 'time' (time: 213)>\n",
      "array(['2019-12-01T12:00:00.000000000', '2019-12-02T12:00:00.000000000',\n",
      "       '2019-12-03T12:00:00.000000000', ..., '2020-06-28T12:00:00.000000000',\n",
      "       '2020-06-29T12:00:00.000000000', '2020-06-30T12:00:00.000000000'],\n",
      "      dtype='datetime64[ns]')\n",
      "Coordinates:\n",
      "  * time     (time) datetime64[ns] 2019-12-01T12:00:00 ... 2020-06-30T12:00:00\n",
      "Attributes:\n",
      "    standard_name:  time\n",
      "    bounds:         time_bnds\n"
     ]
    }
   ],
   "source": [
    "# cubes[0].time\n",
    "for idx,cube in enumerate(cubes):\n",
    "    print(geometry[idx]['name'], cube.time)"
   ]
  },
  {
   "cell_type": "markdown",
   "id": "6a9688a4-16b1-4247-b997-75a9b4807963",
   "metadata": {},
   "source": [
    "If we comment out the `time_period='1D'`, we can see they're around 18 -- 21 UTC.\n",
    "So, we can choose 20:00 UTC for wind data and 15:00 -- 21:00 UTC for summation of ship density.\n",
    "\n",
    "Let's calcualte the mean NO2 and CF. This method costs 30 minutes to generate one mean file ... It's better to use FIS."
   ]
  },
  {
   "cell_type": "code",
   "execution_count": 12,
   "id": "22300f4d-4435-4659-aa71-479e3830d83a",
   "metadata": {},
   "outputs": [
    {
     "name": "stdout",
     "output_type": "stream",
     "text": [
      "los_angeles_city\n"
     ]
    },
    {
     "name": "stderr",
     "output_type": "stream",
     "text": [
      "/opt/conda/envs/eurodatacube-0.24.5/lib/python3.8/site-packages/dask/array/numpy_compat.py:39: RuntimeWarning: invalid value encountered in true_divide\n",
      "  x = np.divide(x1, x2, out)\n"
     ]
    },
    {
     "name": "stdout",
     "output_type": "stream",
     "text": [
      "victoria\n"
     ]
    },
    {
     "name": "stderr",
     "output_type": "stream",
     "text": [
      "/opt/conda/envs/eurodatacube-0.24.5/lib/python3.8/site-packages/dask/array/numpy_compat.py:39: RuntimeWarning: invalid value encountered in true_divide\n",
      "  x = np.divide(x1, x2, out)\n"
     ]
    }
   ],
   "source": [
    "savedir = '../data/tropomi_mean/'\n",
    "for idx,cube in enumerate(cubes):\n",
    "    if idx >=4:\n",
    "        print(geometry[idx]['name'])\n",
    "        savename = 'tropomi_'+geometry[idx]['name']+'_'+cube.time.min().dt.strftime('%Y%m').values+'-'+cube.time.max().dt.strftime('%Y%m').values+'.nc'\n",
    "        load_data = cube.mean(['lon', 'lat']).load()\n",
    "        load_data.to_netcdf(savedir+savename)"
   ]
  },
  {
   "cell_type": "markdown",
   "id": "013a9b1a-5d84-4c71-8058-b98b34d895fd",
   "metadata": {},
   "source": [
    "Check the mean NO2 data:"
   ]
  },
  {
   "cell_type": "code",
   "execution_count": 31,
   "id": "3211f066-8685-4abe-844d-5fcea7fed507",
   "metadata": {},
   "outputs": [
    {
     "data": {
      "text/plain": [
       "[<matplotlib.lines.Line2D at 0x7f9ed7eedb50>]"
      ]
     },
     "execution_count": 31,
     "metadata": {},
     "output_type": "execute_result"
    },
    {
     "data": {
      "image/png": "[encoded data removed]",
      "text/plain": [
       "<Figure size 432x288 with 1 Axes>"
      ]
     },
     "metadata": {
      "needs_background": "light"
     },
     "output_type": "display_data"
    }
   ],
   "source": [
    "import xarray as xr\n",
    "ds = xr.open_dataset(savedir+savename)\n",
    "ds.isel(time=slice(0, 400))['NO2'].plot()"
   ]
  }
 ],
 "metadata": {
  "kernelspec": {
   "display_name": "EDC 0.24.5 (Python3)",
   "language": "python",
   "name": "edc"
  },
  "language_info": {
   "codemirror_mode": {
    "name": "ipython",
    "version": 3
   },
   "file_extension": ".py",
   "mimetype": "text/x-python",
   "name": "python",
   "nbconvert_exporter": "python",
   "pygments_lexer": "ipython3",
   "version": "3.8.10"
  }
 },
 "nbformat": 4,
 "nbformat_minor": 5
}
